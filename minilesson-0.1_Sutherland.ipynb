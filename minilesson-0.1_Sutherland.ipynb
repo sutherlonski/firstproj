{
 "cells": [
  {
   "cell_type": "markdown",
   "id": "cf3f469c",
   "metadata": {},
   "source": [
    "### Module 0.1 Working with Jupyter Notebook and Canvas\n",
    "\n",
    "#### Try-It-0.1: Solution\n",
    "\n",
    "The solution Jupyter Notebook will contain the solution to the problems. You should only look at the solution after you had an opportunity to try the problems."
   ]
  },
  {
   "cell_type": "markdown",
   "id": "16c1043e",
   "metadata": {},
   "source": [
    "#### Problem 1\n",
    "\n",
    "Complete the code below to print the string ```'Hello World!'```:"
   ]
  },
  {
   "cell_type": "code",
   "execution_count": null,
   "id": "eb31ac29",
   "metadata": {},
   "outputs": [],
   "source": [
    "print('Hello World!')"
   ]
  },
  {
   "cell_type": "markdown",
   "id": "544186f0",
   "metadata": {},
   "source": [
    "#### Problem 2\n",
    "\n",
    "Some zipped starter/solution/assignment content can also include a folder with files that you will need to complete the work for the activity.  Complete the code below to list the contents of the ```'data'``` directory for this activity:"
   ]
  },
  {
   "cell_type": "code",
   "execution_count": null,
   "id": "9e7a0e21",
   "metadata": {},
   "outputs": [],
   "source": [
    "import os\n",
    "\n",
    "os.listdir('data')"
   ]
  }
 ],
 "metadata": {
  "kernelspec": {
   "display_name": "Python 3 (ipykernel)",
   "language": "python",
   "name": "python3"
  },
  "language_info": {
   "codemirror_mode": {
    "name": "ipython",
    "version": 3
   },
   "file_extension": ".py",
   "mimetype": "text/x-python",
   "name": "python",
   "nbconvert_exporter": "python",
   "pygments_lexer": "ipython3",
   "version": "3.12.7"
  }
 },
 "nbformat": 4,
 "nbformat_minor": 5
}
